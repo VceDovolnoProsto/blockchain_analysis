{
 "cells": [
  {
   "cell_type": "code",
   "execution_count": null,
   "metadata": {},
   "outputs": [],
   "source": []
  },
  {
   "cell_type": "code",
   "execution_count": 1,
   "metadata": {
    "scrolled": true
   },
   "outputs": [
    {
     "name": "stdout",
     "output_type": "stream",
     "text": [
      "Requirement already satisfied: web3 in /srv/conda/envs/notebook/lib/python3.6/site-packages (5.3.0)\n",
      "Requirement already satisfied: lru-dict<2.0.0,>=1.1.6 in /srv/conda/envs/notebook/lib/python3.6/site-packages (from web3) (1.1.6)\n",
      "Requirement already satisfied: eth-account<0.5.0,>=0.4.0 in /srv/conda/envs/notebook/lib/python3.6/site-packages (from web3) (0.4.0)\n",
      "Requirement already satisfied: eth-utils<2.0.0,>=1.8.0 in /srv/conda/envs/notebook/lib/python3.6/site-packages (from web3) (1.8.1)\n",
      "Requirement already satisfied: requests<3.0.0,>=2.16.0 in /srv/conda/envs/notebook/lib/python3.6/site-packages (from web3) (2.22.0)\n",
      "Requirement already satisfied: jsonschema<4.0.0,>=3.0.0 in /srv/conda/envs/notebook/lib/python3.6/site-packages (from web3) (3.0.1)\n",
      "Requirement already satisfied: protobuf<4,>=3.10.0 in /srv/conda/envs/notebook/lib/python3.6/site-packages (from web3) (3.11.1)\n",
      "Requirement already satisfied: ipfshttpclient<1,>=0.4.12 in /srv/conda/envs/notebook/lib/python3.6/site-packages (from web3) (0.4.12)\n",
      "Requirement already satisfied: websockets<9.0.0,>=8.1.0 in /srv/conda/envs/notebook/lib/python3.6/site-packages (from web3) (8.1)\n",
      "Requirement already satisfied: eth-abi<3.0.0,>=2.0.0b6 in /srv/conda/envs/notebook/lib/python3.6/site-packages (from web3) (2.0.0)\n",
      "Requirement already satisfied: hexbytes<1.0.0,>=0.1.0 in /srv/conda/envs/notebook/lib/python3.6/site-packages (from web3) (0.2.0)\n",
      "Requirement already satisfied: mypy-extensions<1.0.0,>=0.4.1 in /srv/conda/envs/notebook/lib/python3.6/site-packages (from web3) (0.4.3)\n",
      "Requirement already satisfied: eth-hash[pycryptodome]<1.0.0,>=0.2.0 in /srv/conda/envs/notebook/lib/python3.6/site-packages (from web3) (0.2.0)\n",
      "Requirement already satisfied: eth-typing<3.0.0,>=2.0.0 in /srv/conda/envs/notebook/lib/python3.6/site-packages (from web3) (2.2.1)\n",
      "Requirement already satisfied: eth-keyfile<0.6.0,>=0.5.0 in /srv/conda/envs/notebook/lib/python3.6/site-packages (from eth-account<0.5.0,>=0.4.0->web3) (0.5.1)\n",
      "Requirement already satisfied: rlp<2,>=1.0.0 in /srv/conda/envs/notebook/lib/python3.6/site-packages (from eth-account<0.5.0,>=0.4.0->web3) (1.2.0)\n",
      "Requirement already satisfied: eth-rlp<1,>=0.1.2 in /srv/conda/envs/notebook/lib/python3.6/site-packages (from eth-account<0.5.0,>=0.4.0->web3) (0.1.2)\n",
      "Requirement already satisfied: attrdict<3,>=2.0.0 in /srv/conda/envs/notebook/lib/python3.6/site-packages (from eth-account<0.5.0,>=0.4.0->web3) (2.0.1)\n",
      "Requirement already satisfied: eth-keys<0.3.0,>=0.2.1 in /srv/conda/envs/notebook/lib/python3.6/site-packages (from eth-account<0.5.0,>=0.4.0->web3) (0.2.4)\n",
      "Requirement already satisfied: toolz<1,>0.8.2 in /srv/conda/envs/notebook/lib/python3.6/site-packages (from eth-utils<2.0.0,>=1.8.0->web3) (0.10.0)\n",
      "Requirement already satisfied: cytoolz<1.0.0,>=0.10.1 in /srv/conda/envs/notebook/lib/python3.6/site-packages (from eth-utils<2.0.0,>=1.8.0->web3) (0.10.1)\n",
      "Requirement already satisfied: certifi>=2017.4.17 in /srv/conda/envs/notebook/lib/python3.6/site-packages (from requests<3.0.0,>=2.16.0->web3) (2019.6.16)\n",
      "Requirement already satisfied: idna<2.9,>=2.5 in /srv/conda/envs/notebook/lib/python3.6/site-packages (from requests<3.0.0,>=2.16.0->web3) (2.8)\n",
      "Requirement already satisfied: urllib3!=1.25.0,!=1.25.1,<1.26,>=1.21.1 in /srv/conda/envs/notebook/lib/python3.6/site-packages (from requests<3.0.0,>=2.16.0->web3) (1.25.3)\n",
      "Requirement already satisfied: chardet<3.1.0,>=3.0.2 in /srv/conda/envs/notebook/lib/python3.6/site-packages (from requests<3.0.0,>=2.16.0->web3) (3.0.4)\n",
      "Requirement already satisfied: attrs>=17.4.0 in /srv/conda/envs/notebook/lib/python3.6/site-packages (from jsonschema<4.0.0,>=3.0.0->web3) (19.1.0)\n",
      "Requirement already satisfied: pyrsistent>=0.14.0 in /srv/conda/envs/notebook/lib/python3.6/site-packages (from jsonschema<4.0.0,>=3.0.0->web3) (0.15.4)\n",
      "Requirement already satisfied: setuptools in /srv/conda/envs/notebook/lib/python3.6/site-packages (from jsonschema<4.0.0,>=3.0.0->web3) (41.0.1)\n",
      "Requirement already satisfied: six>=1.11.0 in /srv/conda/envs/notebook/lib/python3.6/site-packages (from jsonschema<4.0.0,>=3.0.0->web3) (1.12.0)\n",
      "Requirement already satisfied: multiaddr>=0.0.7 in /srv/conda/envs/notebook/lib/python3.6/site-packages (from ipfshttpclient<1,>=0.4.12->web3) (0.0.8)\n",
      "Requirement already satisfied: parsimonious<0.9.0,>=0.8.0 in /srv/conda/envs/notebook/lib/python3.6/site-packages (from eth-abi<3.0.0,>=2.0.0b6->web3) (0.8.1)\n",
      "Requirement already satisfied: pycryptodome<4,>=3.6.6; extra == \"pycryptodome\" in /srv/conda/envs/notebook/lib/python3.6/site-packages (from eth-hash[pycryptodome]<1.0.0,>=0.2.0->web3) (3.9.4)\n",
      "Requirement already satisfied: varint in /srv/conda/envs/notebook/lib/python3.6/site-packages (from multiaddr>=0.0.7->ipfshttpclient<1,>=0.4.12->web3) (1.0.2)\n",
      "Requirement already satisfied: netaddr in /srv/conda/envs/notebook/lib/python3.6/site-packages (from multiaddr>=0.0.7->ipfshttpclient<1,>=0.4.12->web3) (0.7.19)\n",
      "Requirement already satisfied: base58 in /srv/conda/envs/notebook/lib/python3.6/site-packages (from multiaddr>=0.0.7->ipfshttpclient<1,>=0.4.12->web3) (1.0.3)\n",
      "Note: you may need to restart the kernel to use updated packages.\n"
     ]
    }
   ],
   "source": [
    "pip install web3\n"
   ]
  },
  {
   "cell_type": "code",
   "execution_count": 2,
   "metadata": {
    "scrolled": true
   },
   "outputs": [
    {
     "name": "stdout",
     "output_type": "stream",
     "text": [
      "Requirement already satisfied: matplot in /srv/conda/envs/notebook/lib/python3.6/site-packages (0.1.9)\n",
      "Requirement already satisfied: matplotlib>=3.1.1 in /srv/conda/envs/notebook/lib/python3.6/site-packages (from matplot) (3.1.1)\n",
      "Requirement already satisfied: pyloco>=0.0.134 in /srv/conda/envs/notebook/lib/python3.6/site-packages (from matplot) (0.0.139)\n",
      "Requirement already satisfied: cycler>=0.10 in /srv/conda/envs/notebook/lib/python3.6/site-packages (from matplotlib>=3.1.1->matplot) (0.10.0)\n",
      "Requirement already satisfied: python-dateutil>=2.1 in /srv/conda/envs/notebook/lib/python3.6/site-packages (from matplotlib>=3.1.1->matplot) (2.8.0)\n",
      "Requirement already satisfied: pyparsing!=2.0.4,!=2.1.2,!=2.1.6,>=2.0.1 in /srv/conda/envs/notebook/lib/python3.6/site-packages (from matplotlib>=3.1.1->matplot) (2.4.2)\n",
      "Requirement already satisfied: numpy>=1.11 in /srv/conda/envs/notebook/lib/python3.6/site-packages (from matplotlib>=3.1.1->matplot) (1.17.0)\n",
      "Requirement already satisfied: kiwisolver>=1.0.1 in /srv/conda/envs/notebook/lib/python3.6/site-packages (from matplotlib>=3.1.1->matplot) (1.1.0)\n",
      "Requirement already satisfied: twine in /srv/conda/envs/notebook/lib/python3.6/site-packages (from pyloco>=0.0.134->matplot) (3.1.1)\n",
      "Requirement already satisfied: ushlex in /srv/conda/envs/notebook/lib/python3.6/site-packages (from pyloco>=0.0.134->matplot) (0.99.1)\n",
      "Requirement already satisfied: typing in /srv/conda/envs/notebook/lib/python3.6/site-packages (from pyloco>=0.0.134->matplot) (3.7.4.1)\n",
      "Requirement already satisfied: websocket-client in /srv/conda/envs/notebook/lib/python3.6/site-packages (from pyloco>=0.0.134->matplot) (0.56.0)\n",
      "Requirement already satisfied: SimpleWebSocketServer in /srv/conda/envs/notebook/lib/python3.6/site-packages (from pyloco>=0.0.134->matplot) (0.1.1)\n",
      "Requirement already satisfied: six in /srv/conda/envs/notebook/lib/python3.6/site-packages (from cycler>=0.10->matplotlib>=3.1.1->matplot) (1.12.0)\n",
      "Requirement already satisfied: setuptools in /srv/conda/envs/notebook/lib/python3.6/site-packages (from kiwisolver>=1.0.1->matplotlib>=3.1.1->matplot) (41.0.1)\n",
      "Requirement already satisfied: keyring>=15.1 in /srv/conda/envs/notebook/lib/python3.6/site-packages (from twine->pyloco>=0.0.134->matplot) (19.3.0)\n",
      "Requirement already satisfied: readme-renderer>=21.0 in /srv/conda/envs/notebook/lib/python3.6/site-packages (from twine->pyloco>=0.0.134->matplot) (24.0)\n",
      "Requirement already satisfied: requests>=2.20 in /srv/conda/envs/notebook/lib/python3.6/site-packages (from twine->pyloco>=0.0.134->matplot) (2.22.0)\n",
      "Requirement already satisfied: tqdm>=4.14 in /srv/conda/envs/notebook/lib/python3.6/site-packages (from twine->pyloco>=0.0.134->matplot) (4.40.0)\n",
      "Requirement already satisfied: pkginfo>=1.4.2 in /srv/conda/envs/notebook/lib/python3.6/site-packages (from twine->pyloco>=0.0.134->matplot) (1.5.0.1)\n",
      "Requirement already satisfied: requests-toolbelt!=0.9.0,>=0.8.0 in /srv/conda/envs/notebook/lib/python3.6/site-packages (from twine->pyloco>=0.0.134->matplot) (0.9.1)\n",
      "Requirement already satisfied: importlib-metadata; python_version < \"3.8\" in /srv/conda/envs/notebook/lib/python3.6/site-packages (from twine->pyloco>=0.0.134->matplot) (1.1.0)\n",
      "Requirement already satisfied: secretstorage; sys_platform == \"linux\" in /srv/conda/envs/notebook/lib/python3.6/site-packages (from keyring>=15.1->twine->pyloco>=0.0.134->matplot) (3.1.1)\n",
      "Requirement already satisfied: docutils>=0.13.1 in /srv/conda/envs/notebook/lib/python3.6/site-packages (from readme-renderer>=21.0->twine->pyloco>=0.0.134->matplot) (0.15.2)\n",
      "Requirement already satisfied: Pygments in /srv/conda/envs/notebook/lib/python3.6/site-packages (from readme-renderer>=21.0->twine->pyloco>=0.0.134->matplot) (2.4.2)\n",
      "Requirement already satisfied: bleach>=2.1.0 in /srv/conda/envs/notebook/lib/python3.6/site-packages (from readme-renderer>=21.0->twine->pyloco>=0.0.134->matplot) (3.1.0)\n",
      "Requirement already satisfied: idna<2.9,>=2.5 in /srv/conda/envs/notebook/lib/python3.6/site-packages (from requests>=2.20->twine->pyloco>=0.0.134->matplot) (2.8)\n",
      "Requirement already satisfied: chardet<3.1.0,>=3.0.2 in /srv/conda/envs/notebook/lib/python3.6/site-packages (from requests>=2.20->twine->pyloco>=0.0.134->matplot) (3.0.4)\n",
      "Requirement already satisfied: urllib3!=1.25.0,!=1.25.1,<1.26,>=1.21.1 in /srv/conda/envs/notebook/lib/python3.6/site-packages (from requests>=2.20->twine->pyloco>=0.0.134->matplot) (1.25.3)\n",
      "Requirement already satisfied: certifi>=2017.4.17 in /srv/conda/envs/notebook/lib/python3.6/site-packages (from requests>=2.20->twine->pyloco>=0.0.134->matplot) (2019.6.16)\n",
      "Requirement already satisfied: zipp>=0.5 in /srv/conda/envs/notebook/lib/python3.6/site-packages (from importlib-metadata; python_version < \"3.8\"->twine->pyloco>=0.0.134->matplot) (0.6.0)\n",
      "Requirement already satisfied: cryptography in /srv/conda/envs/notebook/lib/python3.6/site-packages (from secretstorage; sys_platform == \"linux\"->keyring>=15.1->twine->pyloco>=0.0.134->matplot) (2.7)\n",
      "Requirement already satisfied: jeepney in /srv/conda/envs/notebook/lib/python3.6/site-packages (from secretstorage; sys_platform == \"linux\"->keyring>=15.1->twine->pyloco>=0.0.134->matplot) (0.4.1)\n",
      "Requirement already satisfied: webencodings in /srv/conda/envs/notebook/lib/python3.6/site-packages (from bleach>=2.1.0->readme-renderer>=21.0->twine->pyloco>=0.0.134->matplot) (0.5.1)\n",
      "Requirement already satisfied: more-itertools in /srv/conda/envs/notebook/lib/python3.6/site-packages (from zipp>=0.5->importlib-metadata; python_version < \"3.8\"->twine->pyloco>=0.0.134->matplot) (8.0.0)\n",
      "Requirement already satisfied: asn1crypto>=0.21.0 in /srv/conda/envs/notebook/lib/python3.6/site-packages (from cryptography->secretstorage; sys_platform == \"linux\"->keyring>=15.1->twine->pyloco>=0.0.134->matplot) (0.24.0)\n",
      "Requirement already satisfied: cffi!=1.11.3,>=1.8 in /srv/conda/envs/notebook/lib/python3.6/site-packages (from cryptography->secretstorage; sys_platform == \"linux\"->keyring>=15.1->twine->pyloco>=0.0.134->matplot) (1.12.3)\n",
      "Requirement already satisfied: pycparser in /srv/conda/envs/notebook/lib/python3.6/site-packages (from cffi!=1.11.3,>=1.8->cryptography->secretstorage; sys_platform == \"linux\"->keyring>=15.1->twine->pyloco>=0.0.134->matplot) (2.19)\n",
      "Note: you may need to restart the kernel to use updated packages.\n"
     ]
    }
   ],
   "source": [
    "pip install matplot\n"
   ]
  },
  {
   "cell_type": "code",
   "execution_count": 3,
   "metadata": {},
   "outputs": [],
   "source": [
    "from web3 import Web3\n",
    "web3 = Web3(Web3.HTTPProvider('https://mainnet.infura.io/v3/ce0ca388247e466fb12097b7bd1a6bf0'))"
   ]
  },
  {
   "cell_type": "code",
   "execution_count": 4,
   "metadata": {},
   "outputs": [],
   "source": [
    "n = 8961400 - 1000 * (46 - 2)"
   ]
  },
  {
   "cell_type": "code",
   "execution_count": 5,
   "metadata": {},
   "outputs": [
    {
     "name": "stdout",
     "output_type": "stream",
     "text": [
      "CPU times: user 2min 33s, sys: 3.77 s, total: 2min 37s\n",
      "Wall time: 47min 46s\n"
     ]
    }
   ],
   "source": [
    "%%time\n",
    "\n",
    "blocks_gas = []\n",
    "blocks_gasPrice = []\n",
    "blocks_contracts = []\n",
    "for i in range(100):\n",
    "  gas = []\n",
    "  price = []\n",
    "  number_of_calls = 0\n",
    "  for trans in web3.eth.getBlock(n + i)['transactions']:\n",
    "    tr = web3.eth.getTransaction(trans)\n",
    "    tr_receipt = web3.eth.getTransactionReceipt(trans)\n",
    "    gas.append(tr_receipt['gasUsed'])\n",
    "    price.append(tr['gasPrice'])\n",
    "    if tr['input'] != '0x':\n",
    "      number_of_calls+=1\n",
    "    \n",
    "  blocks_gas.append(gas)\n",
    "  blocks_gasPrice.append(price)\n",
    "  blocks_contracts.append(number_of_calls)"
   ]
  },
  {
   "cell_type": "code",
   "execution_count": 6,
   "metadata": {
    "scrolled": true
   },
   "outputs": [],
   "source": [
    "file = open('Blocks_info.txt', 'w')\n",
    "n = 8961400 - 1000 * (46 - 2)\n",
    "blocks_commission = []\n",
    "blocks_relative_commission = []\n",
    "blocks_num = []\n",
    "trans_count = []\n",
    "\n",
    "for i in range (100):\n",
    "  commission = 0\n",
    "  trans_c = len(blocks_gas[i])\n",
    "  for j in range(len(blocks_gas[i])):\n",
    "    commission += (blocks_gas[i][j]*blocks_gasPrice[i][j])*(10**(-18))\n",
    "  blocks_num.append(n+i)\n",
    "  blocks_relative_commission.append(float(\"{0:.2f}\".format(commission*100/(commission + 2))))\n",
    "  blocks_commission.append(float (\"{0:.2f}\".format(commission + 2)))\n",
    "  trans_count.append(trans_c)\n",
    "  file.write(str(i + n) + ',' + str(commission + 2) + ',' + str(commission*100/(commission + 2)) + ',' + str(trans_c) + ','\n",
    "             + str(blocks_contracts[i]) + '\\n')  \n",
    "file.close()"
   ]
  },
  {
   "cell_type": "code",
   "execution_count": 7,
   "metadata": {},
   "outputs": [],
   "source": [
    "import matplotlib.pyplot as plt\n"
   ]
  },
  {
   "cell_type": "code",
   "execution_count": 8,
   "metadata": {},
   "outputs": [
    {
     "data": {
      "image/png": "[encoded data removed]",
      "text/plain": [
       "<Figure size 432x288 with 1 Axes>"
      ]
     },
     "metadata": {
      "needs_background": "light"
     },
     "output_type": "display_data"
    }
   ],
   "source": [
    "plt.scatter(trans_count, blocks_relative_commission, color = 'blue')\n",
    "plt.xlabel('Количество транзакций')\n",
    "plt.ylabel('Комиссия %')\n",
    "plt.grid()\n",
    "plt.show()"
   ]
  },
  {
   "cell_type": "code",
   "execution_count": 9,
   "metadata": {
    "scrolled": true
   },
   "outputs": [
    {
     "data": {
      "image/png": "[encoded data removed]",
      "text/plain": [
       "<Figure size 432x288 with 1 Axes>"
      ]
     },
     "metadata": {
      "needs_background": "light"
     },
     "output_type": "display_data"
    }
   ],
   "source": [
    "plt.scatter(trans_count, blocks_commission, color = 'red')\n",
    "plt.xlabel('Количество транзакций')\n",
    "plt.ylabel('Комиссия %')\n",
    "plt.grid()\n",
    "plt.show()"
   ]
  },
  {
   "cell_type": "code",
   "execution_count": 10,
   "metadata": {},
   "outputs": [],
   "source": [
    "import numpy as np"
   ]
  },
  {
   "cell_type": "code",
   "execution_count": 11,
   "metadata": {},
   "outputs": [
    {
     "name": "stdout",
     "output_type": "stream",
     "text": [
      "Математическое ожидание: 2.0582000000000003 \n",
      "Медиана: 2.04 \n",
      "Размах: 0.20999999999999996 \n",
      "Дисперсия: 0.002470760000000005\n",
      "Cреднеквадратичное отклонение: 0.049706739985639826\n"
     ]
    }
   ],
   "source": [
    "mean = np.mean(blocks_commission)\n",
    "median = np.median(blocks_commission)\n",
    "scope = np.max(blocks_commission) - np.min(blocks_commission)\n",
    "D = np.var(blocks_commission)\n",
    "std = np.std(blocks_commission)\n",
    "\n",
    "print('Математическое ожидание: {} \\nМедиана: {} \\nРазмах: {} \\nДисперсия: {}\\nCреднеквадратичное отклонение: {}'.format(mean, median, scope, D, std))"
   ]
  },
  {
   "cell_type": "code",
   "execution_count": 12,
   "metadata": {},
   "outputs": [
    {
     "name": "stdout",
     "output_type": "stream",
     "text": [
      "[46, 71, 0, 11, 23, 114, 21, 36, 49, 29, 26, 45, 19, 74, 12, 55, 34, 66, 9, 103, 27, 53, 83, 0, 46, 83, 36, 86, 138, 22, 23, 4, 94, 91, 0, 52, 91, 105, 28, 126, 130, 207, 111, 88, 47, 72, 0, 48, 38, 102, 8, 124, 54, 100, 51, 29, 3, 71, 82, 64, 15, 126, 104, 26, 56, 63, 24, 54, 61, 78, 46, 89, 129, 29, 134, 80, 124, 0, 58, 94, 72, 119, 15, 109, 7, 38, 112, 21, 16, 102, 37, 86, 67, 37, 131, 56, 29, 63, 28, 84]\n"
     ]
    }
   ],
   "source": [
    "print(blocks_contracts)"
   ]
  },
  {
   "cell_type": "code",
   "execution_count": null,
   "metadata": {},
   "outputs": [],
   "source": []
  }
 ],
 "metadata": {
  "kernelspec": {
   "display_name": "Python 3",
   "language": "python",
   "name": "python3"
  },
  "language_info": {
   "codemirror_mode": {
    "name": "ipython",
    "version": 3
   },
   "file_extension": ".py",
   "mimetype": "text/x-python",
   "name": "python",
   "nbconvert_exporter": "python",
   "pygments_lexer": "ipython3",
   "version": "3.6.7"
  }
 },
 "nbformat": 4,
 "nbformat_minor": 2
}
